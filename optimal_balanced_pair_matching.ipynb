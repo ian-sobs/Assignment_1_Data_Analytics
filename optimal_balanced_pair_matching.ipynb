{
 "cells": [
  {
   "cell_type": "code",
   "execution_count": 5,
   "id": "fa712765-e6ab-4112-85ef-09a1b1764ca4",
   "metadata": {},
   "outputs": [
    {
     "name": "stdout",
     "output_type": "stream",
     "text": [
      "Bp keys: (202, 3)\n",
      "p: 398 k: 0\n"
     ]
    },
    {
     "ename": "IndexError",
     "evalue": "index 202 is out of bounds for axis 0 with size 202",
     "output_type": "error",
     "traceback": [
      "\u001b[0;31m---------------------------------------------------------------------------\u001b[0m",
      "\u001b[0;31mIndexError\u001b[0m                                Traceback (most recent call last)",
      "Cell \u001b[0;32mIn[5], line 77\u001b[0m\n\u001b[1;32m     73\u001b[0m distance_matrix \u001b[38;5;241m=\u001b[39m scipy\u001b[38;5;241m.\u001b[39mspatial\u001b[38;5;241m.\u001b[39mdistance\u001b[38;5;241m.\u001b[39mcdist(X, X, metric\u001b[38;5;241m=\u001b[39m\u001b[38;5;124m'\u001b[39m\u001b[38;5;124mmahalanobis\u001b[39m\u001b[38;5;124m'\u001b[39m, VI\u001b[38;5;241m=\u001b[39mVI)\n\u001b[1;32m     75\u001b[0m \u001b[38;5;66;03m# Solve balanced pair matching\u001b[39;00m\n\u001b[1;32m     76\u001b[0m \u001b[38;5;66;03m# the error started here\u001b[39;00m\n\u001b[0;32m---> 77\u001b[0m matched_pairs \u001b[38;5;241m=\u001b[39m \u001b[43mbalanced_pair_matching\u001b[49m\u001b[43m(\u001b[49m\u001b[43mtreated_idx\u001b[49m\u001b[43m,\u001b[49m\u001b[43m \u001b[49m\u001b[43muntreated_idx\u001b[49m\u001b[43m,\u001b[49m\u001b[43m \u001b[49m\u001b[43mdistance_matrix\u001b[49m\u001b[43m,\u001b[49m\u001b[43m \u001b[49m\u001b[43mBp\u001b[49m\u001b[43m,\u001b[49m\u001b[43m \u001b[49m\u001b[43mBe\u001b[49m\u001b[43m)\u001b[49m\n\u001b[1;32m     78\u001b[0m \u001b[38;5;28mprint\u001b[39m(\u001b[38;5;124m\"\u001b[39m\u001b[38;5;124mBalanced Pair Matching:\u001b[39m\u001b[38;5;124m\"\u001b[39m, matched_pairs)\n",
      "Cell \u001b[0;32mIn[5], line 43\u001b[0m, in \u001b[0;36mbalanced_pair_matching\u001b[0;34m(treated_idx, untreated_idx, distance_matrix, Bp, Be)\u001b[0m\n\u001b[1;32m     41\u001b[0m     \u001b[38;5;28mprint\u001b[39m(\u001b[38;5;124m\"\u001b[39m\u001b[38;5;124mBp keys:\u001b[39m\u001b[38;5;124m\"\u001b[39m, Bp\u001b[38;5;241m.\u001b[39mshape)  \u001b[38;5;66;03m# See what indices are available\u001b[39;00m\n\u001b[1;32m     42\u001b[0m     \u001b[38;5;28mprint\u001b[39m(\u001b[38;5;124m\"\u001b[39m\u001b[38;5;124mp:\u001b[39m\u001b[38;5;124m\"\u001b[39m, p, \u001b[38;5;124m\"\u001b[39m\u001b[38;5;124mk:\u001b[39m\u001b[38;5;124m\"\u001b[39m, k)  \u001b[38;5;66;03m# See which value caused the error\u001b[39;00m\n\u001b[0;32m---> 43\u001b[0m     model \u001b[38;5;241m+\u001b[39m\u001b[38;5;241m=\u001b[39m \u001b[43mpulp\u001b[49m\u001b[38;5;241;43m.\u001b[39;49m\u001b[43mlpSum\u001b[49m\u001b[43m(\u001b[49m\u001b[43mBp\u001b[49m\u001b[43m[\u001b[49m\u001b[43mp\u001b[49m\u001b[43m,\u001b[49m\u001b[43m \u001b[49m\u001b[43mk\u001b[49m\u001b[43m]\u001b[49m\u001b[43m \u001b[49m\u001b[38;5;241;43m*\u001b[39;49m\u001b[43m \u001b[49m\u001b[43mx\u001b[49m\u001b[43m[\u001b[49m\u001b[43mp\u001b[49m\u001b[43m,\u001b[49m\u001b[43m \u001b[49m\u001b[43mq\u001b[49m\u001b[43m]\u001b[49m\u001b[43m \u001b[49m\u001b[38;5;28;43;01mfor\u001b[39;49;00m\u001b[43m \u001b[49m\u001b[43mp\u001b[49m\u001b[43m \u001b[49m\u001b[38;5;129;43;01min\u001b[39;49;00m\u001b[43m \u001b[49m\u001b[43mtreated_idx\u001b[49m\u001b[43m \u001b[49m\u001b[38;5;28;43;01mfor\u001b[39;49;00m\u001b[43m \u001b[49m\u001b[43mq\u001b[49m\u001b[43m \u001b[49m\u001b[38;5;129;43;01min\u001b[39;49;00m\u001b[43m \u001b[49m\u001b[43muntreated_idx\u001b[49m\u001b[43m)\u001b[49m \u001b[38;5;241m==\u001b[39m \\\n\u001b[1;32m     44\u001b[0m              pulp\u001b[38;5;241m.\u001b[39mlpSum(Be[q, k] \u001b[38;5;241m*\u001b[39m x[p, q] \u001b[38;5;28;01mfor\u001b[39;00m p \u001b[38;5;129;01min\u001b[39;00m treated_idx \u001b[38;5;28;01mfor\u001b[39;00m q \u001b[38;5;129;01min\u001b[39;00m untreated_idx)\n\u001b[1;32m     46\u001b[0m \u001b[38;5;66;03m# Solve the optimization problem\u001b[39;00m\n\u001b[1;32m     47\u001b[0m model\u001b[38;5;241m.\u001b[39msolve()\n",
      "File \u001b[0;32m/usr/local/lib/python3.10/dist-packages/pulp/pulp.py:2233\u001b[0m, in \u001b[0;36mlpSum\u001b[0;34m(vector)\u001b[0m\n\u001b[1;32m   2227\u001b[0m \u001b[38;5;28;01mdef\u001b[39;00m\u001b[38;5;250m \u001b[39m\u001b[38;5;21mlpSum\u001b[39m(vector):\n\u001b[1;32m   2228\u001b[0m \u001b[38;5;250m    \u001b[39m\u001b[38;5;124;03m\"\"\"\u001b[39;00m\n\u001b[1;32m   2229\u001b[0m \u001b[38;5;124;03m    Calculate the sum of a list of linear expressions\u001b[39;00m\n\u001b[1;32m   2230\u001b[0m \n\u001b[1;32m   2231\u001b[0m \u001b[38;5;124;03m    :param vector: A list of linear expressions\u001b[39;00m\n\u001b[1;32m   2232\u001b[0m \u001b[38;5;124;03m    \"\"\"\u001b[39;00m\n\u001b[0;32m-> 2233\u001b[0m     \u001b[38;5;28;01mreturn\u001b[39;00m \u001b[43mLpAffineExpression\u001b[49m\u001b[43m(\u001b[49m\u001b[43m)\u001b[49m\u001b[38;5;241;43m.\u001b[39;49m\u001b[43maddInPlace\u001b[49m\u001b[43m(\u001b[49m\u001b[43mvector\u001b[49m\u001b[43m)\u001b[49m\n",
      "File \u001b[0;32m/usr/local/lib/python3.10/dist-packages/pulp/pulp.py:867\u001b[0m, in \u001b[0;36mLpAffineExpression.addInPlace\u001b[0;34m(self, other, sign)\u001b[0m\n\u001b[1;32m    864\u001b[0m         \u001b[38;5;28mself\u001b[39m\u001b[38;5;241m.\u001b[39maddInPlace(e, sign\u001b[38;5;241m=\u001b[39msign)\n\u001b[1;32m    865\u001b[0m \u001b[38;5;28;01melif\u001b[39;00m \u001b[38;5;28misinstance\u001b[39m(other, \u001b[38;5;28mlist\u001b[39m) \u001b[38;5;129;01mor\u001b[39;00m \u001b[38;5;28misinstance\u001b[39m(other, Iterable):\n\u001b[1;32m    866\u001b[0m     \u001b[38;5;66;03m# if a list, we add each element of the list\u001b[39;00m\n\u001b[0;32m--> 867\u001b[0m     \u001b[38;5;28;01mfor\u001b[39;00m e \u001b[38;5;129;01min\u001b[39;00m other:\n\u001b[1;32m    868\u001b[0m         \u001b[38;5;28mself\u001b[39m\u001b[38;5;241m.\u001b[39maddInPlace(e, sign\u001b[38;5;241m=\u001b[39msign)\n\u001b[1;32m    869\u001b[0m \u001b[38;5;66;03m# if we're here, other must be a number\u001b[39;00m\n\u001b[1;32m    870\u001b[0m \u001b[38;5;66;03m# we check if it's an actual number:\u001b[39;00m\n",
      "Cell \u001b[0;32mIn[5], line 43\u001b[0m, in \u001b[0;36m<genexpr>\u001b[0;34m(.0)\u001b[0m\n\u001b[1;32m     41\u001b[0m     \u001b[38;5;28mprint\u001b[39m(\u001b[38;5;124m\"\u001b[39m\u001b[38;5;124mBp keys:\u001b[39m\u001b[38;5;124m\"\u001b[39m, Bp\u001b[38;5;241m.\u001b[39mshape)  \u001b[38;5;66;03m# See what indices are available\u001b[39;00m\n\u001b[1;32m     42\u001b[0m     \u001b[38;5;28mprint\u001b[39m(\u001b[38;5;124m\"\u001b[39m\u001b[38;5;124mp:\u001b[39m\u001b[38;5;124m\"\u001b[39m, p, \u001b[38;5;124m\"\u001b[39m\u001b[38;5;124mk:\u001b[39m\u001b[38;5;124m\"\u001b[39m, k)  \u001b[38;5;66;03m# See which value caused the error\u001b[39;00m\n\u001b[0;32m---> 43\u001b[0m     model \u001b[38;5;241m+\u001b[39m\u001b[38;5;241m=\u001b[39m pulp\u001b[38;5;241m.\u001b[39mlpSum(\u001b[43mBp\u001b[49m\u001b[43m[\u001b[49m\u001b[43mp\u001b[49m\u001b[43m,\u001b[49m\u001b[43m \u001b[49m\u001b[43mk\u001b[49m\u001b[43m]\u001b[49m \u001b[38;5;241m*\u001b[39m x[p, q] \u001b[38;5;28;01mfor\u001b[39;00m p \u001b[38;5;129;01min\u001b[39;00m treated_idx \u001b[38;5;28;01mfor\u001b[39;00m q \u001b[38;5;129;01min\u001b[39;00m untreated_idx) \u001b[38;5;241m==\u001b[39m \\\n\u001b[1;32m     44\u001b[0m              pulp\u001b[38;5;241m.\u001b[39mlpSum(Be[q, k] \u001b[38;5;241m*\u001b[39m x[p, q] \u001b[38;5;28;01mfor\u001b[39;00m p \u001b[38;5;129;01min\u001b[39;00m treated_idx \u001b[38;5;28;01mfor\u001b[39;00m q \u001b[38;5;129;01min\u001b[39;00m untreated_idx)\n\u001b[1;32m     46\u001b[0m \u001b[38;5;66;03m# Solve the optimization problem\u001b[39;00m\n\u001b[1;32m     47\u001b[0m model\u001b[38;5;241m.\u001b[39msolve()\n",
      "\u001b[0;31mIndexError\u001b[0m: index 202 is out of bounds for axis 0 with size 202"
     ]
    }
   ],
   "source": [
    "import numpy as np\n",
    "import pulp\n",
    "import scipy\n",
    "\n",
    "def balanced_pair_matching(treated_idx, untreated_idx, distance_matrix, Bp, Be):\n",
    "    \"\"\"\n",
    "    Solves the balanced pair matching problem using Integer Linear Programming (ILP).\n",
    "    \n",
    "    Parameters:\n",
    "        treated_idx (list): Indices of treated patients.\n",
    "        untreated_idx (list): Indices of untreated patients.\n",
    "        distance_matrix (numpy.ndarray): Pairwise Mahalanobis distance matrix.\n",
    "        Bp (numpy.ndarray): Binary attribute matrix for treated patients (size: |T| x K).\n",
    "        Be (numpy.ndarray): Binary attribute matrix for untreated patients (size: |E| x K).\n",
    "    \n",
    "    Returns:\n",
    "        list: List of matched pairs (treated, untreated).\n",
    "    \"\"\"\n",
    "    model = pulp.LpProblem(\"Balanced_Pair_Matching\", pulp.LpMinimize)\n",
    "    \n",
    "    # Decision variables\n",
    "    # understand this\n",
    "    x = {(p, q): pulp.LpVariable(f\"x_{p}_{q}\", cat='Binary') \n",
    "         for p in treated_idx for q in untreated_idx}\n",
    "    \n",
    "    # Objective function: Minimize total Mahalanobis distance\n",
    "    model += pulp.lpSum(distance_matrix[p, q] * x[p, q] for p in treated_idx for q in untreated_idx)\n",
    "    \n",
    "    # Constraint: Each untreated patient is matched exactly once\n",
    "    for q in untreated_idx:\n",
    "        model += pulp.lpSum(x[p, q] for p in treated_idx) == 1\n",
    "    \n",
    "    # Constraint: Each treated patient is matched at most once\n",
    "    for p in treated_idx:\n",
    "        model += pulp.lpSum(x[p, q] for q in untreated_idx) <= 1\n",
    "\n",
    "\n",
    "\n",
    "    # Balance constraints for each binary attribute k\n",
    "    # understand this\n",
    "    K = Bp.shape[1]  # Number of binary attributes\n",
    "    for k in range(K):\n",
    "        print(\"Bp keys:\", Bp.shape)  # See what indices are available\n",
    "        print(\"p:\", p, \"k:\", k)  # See which value caused the error\n",
    "        model += pulp.lpSum(Bp[p, k] * x[p, q] for p in treated_idx for q in untreated_idx) == \\\n",
    "                 pulp.lpSum(Be[q, k] * x[p, q] for p in treated_idx for q in untreated_idx)\n",
    "    \n",
    "    # Solve the optimization problem\n",
    "    model.solve()\n",
    "    \n",
    "    # Extract matched pairs\n",
    "    matched_pairs = [(p, q) for p in treated_idx for q in untreated_idx if pulp.value(x[p, q]) == 1]\n",
    "    \n",
    "    return matched_pairs\n",
    "\n",
    "# Example usage\n",
    "num_patients = 400\n",
    "num_features = 6\n",
    "num_attributes = 3  # Number of binary attributes\n",
    "\n",
    "# Simulated patient data\n",
    "X = np.random.rand(num_patients, num_features)\n",
    "treatment_labels = np.random.choice([0, 1], size=num_patients)\n",
    "treated_idx = np.where(treatment_labels == 1)[0]\n",
    "untreated_idx = np.where(treatment_labels == 0)[0]\n",
    "\n",
    "# Binary attributes for treated and untreated patients\n",
    "# right now this is wrong because the value of Be is dependent on the treated patient our untreated patient is paired with.\n",
    "# understand this\n",
    "Bp = np.random.randint(0, 2, size=(len(treated_idx), num_attributes))\n",
    "Be = np.random.randint(0, 2, size=(len(untreated_idx), num_attributes))\n",
    "\n",
    "# Compute distance matrix\n",
    "cov_matrix = np.cov(X.T)\n",
    "VI = np.linalg.inv(cov_matrix)\n",
    "distance_matrix = scipy.spatial.distance.cdist(X, X, metric='mahalanobis', VI=VI)\n",
    "\n",
    "# Solve balanced pair matching\n",
    "# the error started here\n",
    "matched_pairs = balanced_pair_matching(treated_idx, untreated_idx, distance_matrix, Bp, Be)\n",
    "print(\"Balanced Pair Matching:\", matched_pairs)\n"
   ]
  },
  {
   "cell_type": "code",
   "execution_count": null,
   "id": "a64e7598-92e0-4953-8b16-5ecf2e185b00",
   "metadata": {},
   "outputs": [],
   "source": []
  }
 ],
 "metadata": {
  "kernelspec": {
   "display_name": "Python 3 (ipykernel)",
   "language": "python",
   "name": "python3"
  },
  "language_info": {
   "codemirror_mode": {
    "name": "ipython",
    "version": 3
   },
   "file_extension": ".py",
   "mimetype": "text/x-python",
   "name": "python",
   "nbconvert_exporter": "python",
   "pygments_lexer": "ipython3",
   "version": "3.10.12"
  }
 },
 "nbformat": 4,
 "nbformat_minor": 5
}
