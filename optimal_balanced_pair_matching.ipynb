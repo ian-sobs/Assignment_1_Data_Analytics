{
 "cells": [
  {
   "cell_type": "code",
   "execution_count": 1,
   "id": "fa712765-e6ab-4112-85ef-09a1b1764ca4",
   "metadata": {},
   "outputs": [
    {
     "ename": "ModuleNotFoundError",
     "evalue": "No module named 'pulp'",
     "output_type": "error",
     "traceback": [
      "\u001b[0;31m---------------------------------------------------------------------------\u001b[0m",
      "\u001b[0;31mModuleNotFoundError\u001b[0m                       Traceback (most recent call last)",
      "Cell \u001b[0;32mIn[1], line 2\u001b[0m\n\u001b[1;32m      1\u001b[0m \u001b[38;5;28;01mimport\u001b[39;00m\u001b[38;5;250m \u001b[39m\u001b[38;5;21;01mnumpy\u001b[39;00m\u001b[38;5;250m \u001b[39m\u001b[38;5;28;01mas\u001b[39;00m\u001b[38;5;250m \u001b[39m\u001b[38;5;21;01mnp\u001b[39;00m\n\u001b[0;32m----> 2\u001b[0m \u001b[38;5;28;01mimport\u001b[39;00m\u001b[38;5;250m \u001b[39m\u001b[38;5;21;01mpulp\u001b[39;00m\n\u001b[1;32m      4\u001b[0m \u001b[38;5;28;01mdef\u001b[39;00m\u001b[38;5;250m \u001b[39m\u001b[38;5;21mbalanced_pair_matching\u001b[39m(treated_idx, untreated_idx, distance_matrix, Bp, Be):\n\u001b[1;32m      5\u001b[0m \u001b[38;5;250m    \u001b[39m\u001b[38;5;124;03m\"\"\"\u001b[39;00m\n\u001b[1;32m      6\u001b[0m \u001b[38;5;124;03m    Solves the balanced pair matching problem using Integer Linear Programming (ILP).\u001b[39;00m\n\u001b[1;32m      7\u001b[0m \u001b[38;5;124;03m    \u001b[39;00m\n\u001b[0;32m   (...)\u001b[0m\n\u001b[1;32m     16\u001b[0m \u001b[38;5;124;03m        list: List of matched pairs (treated, untreated).\u001b[39;00m\n\u001b[1;32m     17\u001b[0m \u001b[38;5;124;03m    \"\"\"\u001b[39;00m\n",
      "\u001b[0;31mModuleNotFoundError\u001b[0m: No module named 'pulp'"
     ]
    }
   ],
   "source": [
    "import numpy as np\n",
    "import pulp\n",
    "\n",
    "def balanced_pair_matching(treated_idx, untreated_idx, distance_matrix, Bp, Be):\n",
    "    \"\"\"\n",
    "    Solves the balanced pair matching problem using Integer Linear Programming (ILP).\n",
    "    \n",
    "    Parameters:\n",
    "        treated_idx (list): Indices of treated patients.\n",
    "        untreated_idx (list): Indices of untreated patients.\n",
    "        distance_matrix (numpy.ndarray): Pairwise Mahalanobis distance matrix.\n",
    "        Bp (numpy.ndarray): Binary attribute matrix for treated patients (size: |T| x K).\n",
    "        Be (numpy.ndarray): Binary attribute matrix for untreated patients (size: |E| x K).\n",
    "    \n",
    "    Returns:\n",
    "        list: List of matched pairs (treated, untreated).\n",
    "    \"\"\"\n",
    "    model = pulp.LpProblem(\"Balanced_Pair_Matching\", pulp.LpMinimize)\n",
    "    \n",
    "    # Decision variables\n",
    "    x = {(p, q): pulp.LpVariable(f\"x_{p}_{q}\", cat='Binary') \n",
    "         for p in treated_idx for q in untreated_idx}\n",
    "    \n",
    "    # Objective function: Minimize total Mahalanobis distance\n",
    "    model += pulp.lpSum(distance_matrix[p, q] * x[p, q] for p in treated_idx for q in untreated_idx)\n",
    "    \n",
    "    # Constraint: Each untreated patient is matched exactly once\n",
    "    for q in untreated_idx:\n",
    "        model += pulp.lpSum(x[p, q] for p in treated_idx) == 1\n",
    "    \n",
    "    # Constraint: Each treated patient is matched at most once\n",
    "    for p in treated_idx:\n",
    "        model += pulp.lpSum(x[p, q] for q in untreated_idx) <= 1\n",
    "    \n",
    "    # Balance constraints for each binary attribute k\n",
    "    K = Bp.shape[1]  # Number of binary attributes\n",
    "    for k in range(K):\n",
    "        model += pulp.lpSum(Bp[p, k] * x[p, q] for p in treated_idx for q in untreated_idx) == \\\n",
    "                 pulp.lpSum(Be[q, k] * x[p, q] for p in treated_idx for q in untreated_idx)\n",
    "    \n",
    "    # Solve the optimization problem\n",
    "    model.solve()\n",
    "    \n",
    "    # Extract matched pairs\n",
    "    matched_pairs = [(p, q) for p in treated_idx for q in untreated_idx if pulp.value(x[p, q]) == 1]\n",
    "    \n",
    "    return matched_pairs\n",
    "\n",
    "# Example usage\n",
    "num_patients = 400\n",
    "num_features = 6\n",
    "num_attributes = 3  # Number of binary attributes\n",
    "\n",
    "# Simulated patient data\n",
    "X = np.random.rand(num_patients, num_features)\n",
    "treatment_labels = np.random.choice([0, 1], size=num_patients)\n",
    "treated_idx = np.where(treatment_labels == 1)[0]\n",
    "untreated_idx = np.where(treatment_labels == 0)[0]\n",
    "\n",
    "# Binary attributes for treated and untreated patients\n",
    "Bp = np.random.randint(0, 2, size=(len(treated_idx), num_attributes))\n",
    "Be = np.random.randint(0, 2, size=(len(untreated_idx), num_attributes))\n",
    "\n",
    "# Compute distance matrix\n",
    "cov_matrix = np.cov(X.T)\n",
    "VI = np.linalg.inv(cov_matrix)\n",
    "distance_matrix = scipy.spatial.distance.cdist(X, X, metric='mahalanobis', VI=VI)\n",
    "\n",
    "# Solve balanced pair matching\n",
    "matched_pairs = balanced_pair_matching(treated_idx, untreated_idx, distance_matrix, Bp, Be)\n",
    "print(\"Balanced Pair Matching:\", matched_pairs)\n"
   ]
  },
  {
   "cell_type": "code",
   "execution_count": null,
   "id": "a64e7598-92e0-4953-8b16-5ecf2e185b00",
   "metadata": {},
   "outputs": [],
   "source": []
  }
 ],
 "metadata": {
  "kernelspec": {
   "display_name": "Python 3 (ipykernel)",
   "language": "python",
   "name": "python3"
  },
  "language_info": {
   "codemirror_mode": {
    "name": "ipython",
    "version": 3
   },
   "file_extension": ".py",
   "mimetype": "text/x-python",
   "name": "python",
   "nbconvert_exporter": "python",
   "pygments_lexer": "ipython3",
   "version": "3.10.12"
  }
 },
 "nbformat": 4,
 "nbformat_minor": 5
}
