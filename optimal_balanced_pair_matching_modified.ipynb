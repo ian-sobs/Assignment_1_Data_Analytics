{
 "cells": [
  {
   "cell_type": "code",
   "execution_count": 9,
   "id": "fa712765-e6ab-4112-85ef-09a1b1764ca4",
   "metadata": {},
   "outputs": [
    {
     "ename": "ModuleNotFoundError",
     "evalue": "No module named 'networkx'",
     "output_type": "error",
     "traceback": [
      "\u001b[1;31m---------------------------------------------------------------------------\u001b[0m",
      "\u001b[1;31mModuleNotFoundError\u001b[0m                       Traceback (most recent call last)",
      "Cell \u001b[1;32mIn[9], line 3\u001b[0m\n\u001b[0;32m      1\u001b[0m \u001b[38;5;28;01mimport\u001b[39;00m\u001b[38;5;250m \u001b[39m\u001b[38;5;21;01mnumpy\u001b[39;00m\u001b[38;5;250m \u001b[39m\u001b[38;5;28;01mas\u001b[39;00m\u001b[38;5;250m \u001b[39m\u001b[38;5;21;01mnp\u001b[39;00m\n\u001b[0;32m      2\u001b[0m \u001b[38;5;28;01mimport\u001b[39;00m\u001b[38;5;250m \u001b[39m\u001b[38;5;21;01mpandas\u001b[39;00m\u001b[38;5;250m \u001b[39m\u001b[38;5;28;01mas\u001b[39;00m\u001b[38;5;250m \u001b[39m\u001b[38;5;21;01mpd\u001b[39;00m\n\u001b[1;32m----> 3\u001b[0m \u001b[38;5;28;01mimport\u001b[39;00m\u001b[38;5;250m \u001b[39m\u001b[38;5;21;01mnetworkx\u001b[39;00m\u001b[38;5;250m \u001b[39m\u001b[38;5;28;01mas\u001b[39;00m\u001b[38;5;250m \u001b[39m\u001b[38;5;21;01mnx\u001b[39;00m\n\u001b[0;32m      4\u001b[0m \u001b[38;5;28;01mimport\u001b[39;00m\u001b[38;5;250m \u001b[39m\u001b[38;5;21;01mmatplotlib\u001b[39;00m\u001b[38;5;21;01m.\u001b[39;00m\u001b[38;5;21;01mpyplot\u001b[39;00m\u001b[38;5;250m \u001b[39m\u001b[38;5;28;01mas\u001b[39;00m\u001b[38;5;250m \u001b[39m\u001b[38;5;21;01mplt\u001b[39;00m\n\u001b[0;32m      5\u001b[0m \u001b[38;5;28;01mfrom\u001b[39;00m\u001b[38;5;250m \u001b[39m\u001b[38;5;21;01mscipy\u001b[39;00m\u001b[38;5;21;01m.\u001b[39;00m\u001b[38;5;21;01mspatial\u001b[39;00m\u001b[38;5;21;01m.\u001b[39;00m\u001b[38;5;21;01mdistance\u001b[39;00m\u001b[38;5;250m \u001b[39m\u001b[38;5;28;01mimport\u001b[39;00m mahalanobis\n",
      "\u001b[1;31mModuleNotFoundError\u001b[0m: No module named 'networkx'"
     ]
    }
   ],
   "source": [
    "import numpy as np\n",
    "import pandas as pd\n",
    "import networkx as nx\n",
    "import matplotlib.pyplot as plt\n",
    "from scipy.spatial.distance import mahalanobis\n",
    "from scipy.linalg import inv\n",
    "from pulp import LpMinimize, LpProblem, LpVariable, lpSum\n",
    "\n",
    "# Step 1: Defining the Matching Framework\n",
    "# Generate synthetic data for patients with repeated symptom measurements\n",
    "data = pd.DataFrame({\n",
    "    'id': range(1, 21),\n",
    "    'urgency_baseline': np.random.randint(0, 10, 20),\n",
    "    'urgency_t': np.random.randint(0, 10, 20),\n",
    "    'frequency_baseline': np.random.randint(0, 10, 20),\n",
    "    'frequency_t': np.random.randint(0, 10, 20),\n",
    "    'pain_baseline': np.random.randint(0, 10, 20),\n",
    "    'pain_t': np.random.randint(0, 10, 20),\n",
    "    'age': np.random.randint(20, 80, 20),\n",
    "    'gender': np.random.choice([0, 1], 20),  # 0 = Female, 1 = Male\n",
    "    'treated': np.random.choice([0, 1], 20)  # 1 = treated, 0 = control\n",
    "})\n",
    "\n",
    "# Step 2: Risk Set Matching\n",
    "# Separate treated and not-yet-treated patients\n",
    "treated = data[data['treated'] == 1].reset_index(drop=True)\n",
    "control = data[data['treated'] == 0].reset_index(drop=True)\n",
    "\n",
    "# Compute covariance matrix and inverse for Mahalanobis distance\n",
    "cov_matrix = np.cov(data[['urgency_baseline', 'urgency_t', 'frequency_baseline', 'frequency_t', 'pain_baseline', 'pain_t']].T)\n",
    "cov_inv = inv(cov_matrix)\n",
    "\n",
    "def compute_distance_matrix(treated, control):\n",
    "    \"\"\"Computes Mahalanobis distance matrix between treated and control groups.\"\"\"\n",
    "    distances = {}\n",
    "    for i, t in treated.iterrows():\n",
    "        for j, c in control.iterrows():\n",
    "            dist = mahalanobis(t[['urgency_baseline', 'urgency_t', 'frequency_baseline', 'frequency_t', 'pain_baseline', 'pain_t']], \n",
    "                               c[['urgency_baseline', 'urgency_t', 'frequency_baseline', 'frequency_t', 'pain_baseline', 'pain_t']], \n",
    "                               cov_inv)\n",
    "            distances[(i, j)] = dist\n",
    "    return distances\n",
    "\n",
    "# Compute distance matrix\n",
    "distance_matrix = compute_distance_matrix(treated, control)\n",
    "\n",
    "# Step 3: Optimal Matching via Integer Programming\n",
    "prob = LpProblem(\"Balanced_Matching\", LpMinimize)\n",
    "\n",
    "# Define decision variables\n",
    "x = {pair: LpVariable(f\"x_{pair[0]}_{pair[1]}\", cat='Binary') for pair in distance_matrix.keys()}\n",
    "\n",
    "# Objective function: Minimize total distance\n",
    "prob += lpSum(distance_matrix[pair] * x[pair] for pair in distance_matrix.keys())\n",
    "\n",
    "# Constraints: Each treated patient is matched to one control\n",
    "for i in range(len(treated)):\n",
    "    prob += lpSum(x[(i, j)] for j in range(len(control)) if (i, j) in x) == 1\n",
    "\n",
    "# Each control patient is matched at most once\n",
    "for j in range(len(control)):\n",
    "    prob += lpSum(x[(i, j)] for i in range(len(treated)) if (i, j) in x) <= 1\n",
    "\n",
    "# Step 4: Balancing Covariates\n",
    "# Enforce balance constraints on binary variables (age, gender)\n",
    "for attr in ['age', 'gender']:\n",
    "    treated_sum = lpSum(treated.loc[i, attr] * x[(i, j)] for i, j in x.keys())\n",
    "    control_sum = lpSum(control.loc[j, attr] * x[(i, j)] for i, j in x.keys())\n",
    "    prob += treated_sum == control_sum\n",
    "\n",
    "# Step 5: Ensuring Stability and Sensitivity Analysis\n",
    "# Solve the optimization problem\n",
    "prob.solve()\n",
    "\n",
    "# Extract matched pairs\n",
    "matches = [(i, j) for (i, j) in x.keys() if x[(i, j)].value() == 1]\n",
    "print(\"Matched Pairs:\", matches)\n",
    "\n",
    "# Step 6: Visualizing the Matching Process\n",
    "def plot_matching_graph(treated, control, matches):\n",
    "    G = nx.Graph()\n",
    "    \n",
    "    for i in range(len(treated)):\n",
    "        G.add_node(f\"T_{i}\", color='red')\n",
    "    for j in range(len(control)):\n",
    "        G.add_node(f\"C_{j}\", color='blue')\n",
    "    \n",
    "    for i, j in matches:\n",
    "        G.add_edge(f\"T_{i}\", f\"C_{j}\")\n",
    "    \n",
    "    colors = [G.nodes[n]['color'] for n in G.nodes]\n",
    "    plt.figure(figsize=(8, 6))\n",
    "    nx.draw(G, with_labels=True, node_color=colors, edge_color='black')\n",
    "    plt.title(\"Patient Matching Graph\")\n",
    "    plt.show()\n",
    "\n",
    "plot_matching_graph(treated, control, matches)"
   ]
  },
  {
   "cell_type": "code",
   "execution_count": null,
   "id": "9a2da9e4-9066-45a2-a150-87aa3cec1e58",
   "metadata": {},
   "outputs": [
    {
     "name": "stdout",
     "output_type": "stream",
     "text": [
      "Requirement already satisfied: networkx in c:\\python312\\lib\\site-packages (3.4.2)\n"
     ]
    },
    {
     "name": "stderr",
     "output_type": "stream",
     "text": [
      "\n",
      "[notice] A new release of pip is available: 23.2.1 -> 25.0\n",
      "[notice] To update, run: python.exe -m pip install --upgrade pip\n"
     ]
    }
   ],
   "source": [
    "!pip install networkx"
   ]
  },
  {
   "cell_type": "code",
   "execution_count": null,
   "id": "e72109d0",
   "metadata": {},
   "outputs": [],
   "source": []
  }
 ],
 "metadata": {
  "kernelspec": {
   "display_name": "Python 3 (ipykernel)",
   "language": "python",
   "name": "python3"
  },
  "language_info": {
   "codemirror_mode": {
    "name": "ipython",
    "version": 3
   },
   "file_extension": ".py",
   "mimetype": "text/x-python",
   "name": "python",
   "nbconvert_exporter": "python",
   "pygments_lexer": "ipython3",
   "version": "3.10.12"
  }
 },
 "nbformat": 4,
 "nbformat_minor": 5
}
