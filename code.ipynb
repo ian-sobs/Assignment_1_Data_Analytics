{
 "cells": [
  {
   "cell_type": "code",
   "execution_count": 6,
   "id": "fa712765-e6ab-4112-85ef-09a1b1764ca4",
   "metadata": {},
   "outputs": [
    {
     "name": "stdout",
     "output_type": "stream",
     "text": [
      "Matched Pairs (Treated ID, Not-Yet-Treated ID):\n",
      "[(np.int64(2), np.int64(387)), (np.int64(6), np.int64(369)), (np.int64(10), np.int64(191)), (np.int64(15), np.int64(338)), (np.int64(17), np.int64(139))]\n"
     ]
    }
   ],
   "source": [
    "import numpy as np\n",
    "import pandas as pd\n",
    "from scipy.spatial.distance import mahalanobis\n",
    "from scipy.optimize import linear_sum_assignment\n",
    "\n",
    "# Step 1: Create a sample of 400 patients\n",
    "np.random.seed(42)\n",
    "n_patients = 400\n",
    "\n",
    "# Step 2: Assign each patient an ID and randomly assign to a group (treated or not-yet-treated)\n",
    "patient_ids = np.arange(1, n_patients + 1)\n",
    "is_treated = np.random.choice([0, 1], size=n_patients)\n",
    "\n",
    "# Step 3: Generate 6-dimensional symptom variables (values from 0 to 9)\n",
    "symptom_data = np.random.randint(0, 10, size=(n_patients, 6))\n",
    "columns = ['pain_baseline', 'urgency_baseline', 'frequency_baseline',\n",
    "           'pain_treatment', 'urgency_treatment', 'frequency_treatment']\n",
    "\n",
    "patient_df = pd.DataFrame(symptom_data, columns=columns)\n",
    "patient_df['ID'] = patient_ids\n",
    "patient_df['treated'] = is_treated\n",
    "\n",
    "# Step 4: Convert each variable into 2 binary indicators using percentiles\n",
    "for col in columns:\n",
    "    p33, p67 = np.percentile(patient_df[col], [33.33, 66.67])\n",
    "    \n",
    "    patient_df[f'{col}_low'] = (patient_df[col] < p33).astype(int)\n",
    "    patient_df[f'{col}_mid'] = ((patient_df[col] >= p33) & (patient_df[col] < p67)).astype(int)\n",
    "    patient_df[f'{col}_high'] = (patient_df[col] >= p67).astype(int)\n",
    "\n",
    "# Keep only binary variables for matching\n",
    "binary_columns = [col for col in patient_df.columns if '_low' in col or '_mid' in col or '_high' in col]\n",
    "binary_data = patient_df[['ID', 'treated'] + binary_columns]\n",
    "\n",
    "# Step 5: Implement integer programming to create balanced matches\n",
    "\n",
    "def create_balanced_matching(binary_data):\n",
    "    treated = binary_data[binary_data['treated'] == 1].reset_index(drop=True)\n",
    "    not_yet_treated = binary_data[binary_data['treated'] == 0].reset_index(drop=True)\n",
    "    \n",
    "    num_treated = len(treated)\n",
    "    num_not_treated = len(not_yet_treated)\n",
    "    \n",
    "    # Construct cost matrix using Mahalanobis distance\n",
    "    cov_matrix = np.cov(binary_data[binary_columns].values, rowvar=False)\n",
    "    inv_cov_matrix = np.linalg.pinv(cov_matrix)  # Use pseudo-inverse for numerical stability\n",
    "    \n",
    "    cost_matrix = np.full((num_treated, num_not_treated), np.inf)\n",
    "    \n",
    "    for i in range(num_treated):\n",
    "        for j in range(num_not_treated):\n",
    "            cost_matrix[i, j] = mahalanobis(treated.iloc[i, 2:].values, \n",
    "                                            not_yet_treated.iloc[j, 2:].values, \n",
    "                                            inv_cov_matrix)\n",
    "    \n",
    "    # Solve the assignment problem ensuring each untreated patient is matched at most once\n",
    "    row_ind, col_ind = linear_sum_assignment(cost_matrix)\n",
    "    \n",
    "    matched_pairs = []\n",
    "    used_controls = set()\n",
    "    for i, j in zip(row_ind, col_ind):\n",
    "        if j not in used_controls:  # Ensure untreated patient is matched at most once\n",
    "            matched_pairs.append((treated.iloc[i, 0], not_yet_treated.iloc[j, 0]))\n",
    "            used_controls.add(j)\n",
    "    \n",
    "    return matched_pairs\n",
    "\n",
    "# Get the balanced matching\n",
    "balanced_pairs = create_balanced_matching(binary_data)\n",
    "\n",
    "# Display a sample of matched pairs with patient IDs\n",
    "print(\"Matched Pairs (Treated ID, Not-Yet-Treated ID):\")\n",
    "print(balanced_pairs[:5])\n"
   ]
  },
  {
   "cell_type": "code",
   "execution_count": null,
   "id": "a64e7598-92e0-4953-8b16-5ecf2e185b00",
   "metadata": {},
   "outputs": [],
   "source": []
  },
  {
   "cell_type": "code",
   "execution_count": null,
   "id": "9a2da9e4-9066-45a2-a150-87aa3cec1e58",
   "metadata": {},
   "outputs": [],
   "source": []
  }
 ],
 "metadata": {
  "kernelspec": {
   "display_name": "Python 3 (ipykernel)",
   "language": "python",
   "name": "python3"
  },
  "language_info": {
   "codemirror_mode": {
    "name": "ipython",
    "version": 3
   },
   "file_extension": ".py",
   "mimetype": "text/x-python",
   "name": "python",
   "nbconvert_exporter": "python",
   "pygments_lexer": "ipython3",
   "version": "3.10.12"
  }
 },
 "nbformat": 4,
 "nbformat_minor": 5
}
