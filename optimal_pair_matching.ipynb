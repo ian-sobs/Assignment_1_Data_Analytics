{
 "cells": [
  {
   "cell_type": "code",
   "execution_count": null,
   "id": "bbf649c6-775a-4ee7-8096-723e18743a6e",
   "metadata": {},
   "outputs": [
    {
     "name": "stdout",
     "output_type": "stream",
     "text": [
      "Optimal Pair Matching: [(np.int64(0), np.int64(381)), (np.int64(2), np.int64(247)), (np.int64(3), np.int64(340)), (np.int64(5), np.int64(387)), (np.int64(7), np.int64(70)), (np.int64(8), np.int64(186)), (np.int64(9), np.int64(229)), (np.int64(10), np.int64(113)), (np.int64(13), np.int64(48)), (np.int64(14), np.int64(61)), (np.int64(15), np.int64(370)), (np.int64(17), np.int64(112)), (np.int64(18), np.int64(151)), (np.int64(19), np.int64(191)), (np.int64(20), np.int64(133)), (np.int64(21), np.int64(29)), (np.int64(22), np.int64(396)), (np.int64(23), np.int64(35)), (np.int64(24), np.int64(341)), (np.int64(25), np.int64(241)), (np.int64(27), np.int64(309)), (np.int64(30), np.int64(236)), (np.int64(31), np.int64(181)), (np.int64(32), np.int64(53)), (np.int64(33), np.int64(364)), (np.int64(36), np.int64(58)), (np.int64(38), np.int64(26)), (np.int64(42), np.int64(374)), (np.int64(44), np.int64(279)), (np.int64(45), np.int64(274)), (np.int64(52), np.int64(398)), (np.int64(54), np.int64(335)), (np.int64(55), np.int64(330)), (np.int64(56), np.int64(161)), (np.int64(63), np.int64(179)), (np.int64(64), np.int64(354)), (np.int64(67), np.int64(338)), (np.int64(68), np.int64(230)), (np.int64(72), np.int64(376)), (np.int64(79), np.int64(270)), (np.int64(80), np.int64(132)), (np.int64(82), np.int64(135)), (np.int64(83), np.int64(185)), (np.int64(85), np.int64(385)), (np.int64(86), np.int64(60)), (np.int64(90), np.int64(212)), (np.int64(92), np.int64(365)), (np.int64(94), np.int64(121)), (np.int64(95), np.int64(296)), (np.int64(96), np.int64(307)), (np.int64(99), np.int64(310)), (np.int64(100), np.int64(78)), (np.int64(103), np.int64(127)), (np.int64(104), np.int64(49)), (np.int64(105), np.int64(273)), (np.int64(107), np.int64(291)), (np.int64(108), np.int64(4)), (np.int64(110), np.int64(312)), (np.int64(118), np.int64(97)), (np.int64(119), np.int64(88)), (np.int64(123), np.int64(159)), (np.int64(124), np.int64(395)), (np.int64(128), np.int64(321)), (np.int64(130), np.int64(223)), (np.int64(131), np.int64(98)), (np.int64(139), np.int64(43)), (np.int64(142), np.int64(1)), (np.int64(144), np.int64(122)), (np.int64(145), np.int64(166)), (np.int64(150), np.int64(73)), (np.int64(152), np.int64(66)), (np.int64(156), np.int64(238)), (np.int64(157), np.int64(41)), (np.int64(158), np.int64(154)), (np.int64(162), np.int64(343)), (np.int64(163), np.int64(388)), (np.int64(164), np.int64(87)), (np.int64(167), np.int64(75)), (np.int64(169), np.int64(353)), (np.int64(170), np.int64(380)), (np.int64(172), np.int64(322)), (np.int64(173), np.int64(143)), (np.int64(176), np.int64(198)), (np.int64(177), np.int64(71)), (np.int64(182), np.int64(16)), (np.int64(183), np.int64(205)), (np.int64(187), np.int64(77)), (np.int64(188), np.int64(293)), (np.int64(190), np.int64(74)), (np.int64(192), np.int64(189)), (np.int64(194), np.int64(226)), (np.int64(195), np.int64(168)), (np.int64(199), np.int64(305)), (np.int64(201), np.int64(111)), (np.int64(202), np.int64(257)), (np.int64(210), np.int64(297)), (np.int64(211), np.int64(28)), (np.int64(214), np.int64(117)), (np.int64(215), np.int64(342)), (np.int64(217), np.int64(298)), (np.int64(218), np.int64(6)), (np.int64(220), np.int64(149)), (np.int64(222), np.int64(294)), (np.int64(224), np.int64(213)), (np.int64(227), np.int64(47)), (np.int64(228), np.int64(81)), (np.int64(231), np.int64(102)), (np.int64(232), np.int64(136)), (np.int64(233), np.int64(225)), (np.int64(234), np.int64(146)), (np.int64(237), np.int64(382)), (np.int64(240), np.int64(116)), (np.int64(242), np.int64(126)), (np.int64(243), np.int64(263)), (np.int64(244), np.int64(91)), (np.int64(245), np.int64(339)), (np.int64(246), np.int64(46)), (np.int64(248), np.int64(361)), (np.int64(249), np.int64(106)), (np.int64(252), np.int64(200)), (np.int64(253), np.int64(125)), (np.int64(255), np.int64(180)), (np.int64(256), np.int64(314)), (np.int64(258), np.int64(138)), (np.int64(264), np.int64(209)), (np.int64(265), np.int64(389)), (np.int64(267), np.int64(153)), (np.int64(268), np.int64(51)), (np.int64(269), np.int64(375)), (np.int64(275), np.int64(362)), (np.int64(276), np.int64(89)), (np.int64(277), np.int64(334)), (np.int64(280), np.int64(356)), (np.int64(282), np.int64(204)), (np.int64(285), np.int64(129)), (np.int64(286), np.int64(397)), (np.int64(287), np.int64(351)), (np.int64(288), np.int64(350)), (np.int64(289), np.int64(320)), (np.int64(290), np.int64(219)), (np.int64(295), np.int64(206)), (np.int64(299), np.int64(391)), (np.int64(302), np.int64(65)), (np.int64(303), np.int64(37)), (np.int64(304), np.int64(109)), (np.int64(306), np.int64(62)), (np.int64(308), np.int64(352)), (np.int64(311), np.int64(284)), (np.int64(313), np.int64(301)), (np.int64(315), np.int64(358)), (np.int64(316), np.int64(40)), (np.int64(317), np.int64(160)), (np.int64(319), np.int64(196)), (np.int64(324), np.int64(115)), (np.int64(325), np.int64(207)), (np.int64(327), np.int64(147)), (np.int64(331), np.int64(254)), (np.int64(332), np.int64(359)), (np.int64(333), np.int64(76)), (np.int64(336), np.int64(193)), (np.int64(337), np.int64(271)), (np.int64(344), np.int64(355)), (np.int64(345), np.int64(261)), (np.int64(346), np.int64(366)), (np.int64(348), np.int64(93)), (np.int64(349), np.int64(260)), (np.int64(360), np.int64(259)), (np.int64(363), np.int64(114)), (np.int64(368), np.int64(39)), (np.int64(371), np.int64(69)), (np.int64(372), np.int64(300)), (np.int64(373), np.int64(292)), (np.int64(377), np.int64(203)), (np.int64(378), np.int64(235)), (np.int64(379), np.int64(326)), (np.int64(383), np.int64(12)), (np.int64(384), np.int64(266)), (np.int64(386), np.int64(50)), (np.int64(390), np.int64(171)), (np.int64(392), np.int64(175)), (np.int64(393), np.int64(178)), (np.int64(394), np.int64(328)), (np.int64(399), np.int64(148))]\n"
     ]
    }
   ],
   "source": [
    "import numpy as np\n",
    "import pandas as pd\n",
    "from scipy.spatial.distance import mahalanobis\n",
    "from scipy.linalg import inv\n",
    "from pulp import LpMinimize, LpProblem, LpVariable, lpSum\n",
    "\n",
    "# Step 1: Defining the Matching Framework\n",
    "# Generate synthetic data for patients with repeated symptom measurements\n",
    "data = pd.DataFrame({\n",
    "    'id': range(1, 21),\n",
    "    'urgency_baseline': np.random.randint(0, 10, 20),\n",
    "    'urgency_t': np.random.randint(0, 10, 20),\n",
    "    'frequency_baseline': np.random.randint(0, 10, 20),\n",
    "    'frequency_t': np.random.randint(0, 10, 20),\n",
    "    'pain_baseline': np.random.randint(0, 10, 20),\n",
    "    'pain_t': np.random.randint(0, 10, 20),\n",
    "    'age': np.random.randint(20, 80, 20),\n",
    "    'gender': np.random.choice([0, 1], 20),  # 0 = Female, 1 = Male\n",
    "    'treated': np.random.choice([0, 1], 20)  # 1 = treated, 0 = control\n",
    "})\n",
    "\n",
    "# Step 2: Risk Set Matching\n",
    "# Separate treated and not-yet-treated patients\n",
    "treated = data[data['treated'] == 1].reset_index(drop=True)\n",
    "control = data[data['treated'] == 0].reset_index(drop=True)\n",
    "\n",
    "# Compute covariance matrix and inverse for Mahalanobis distance\n",
    "cov_matrix = np.cov(data[['urgency_baseline', 'urgency_t', 'frequency_baseline', 'frequency_t', 'pain_baseline', 'pain_t']].T)\n",
    "cov_inv = inv(cov_matrix)\n",
    "\n",
    "def compute_distance_matrix(treated, control):\n",
    "    \"\"\"Computes Mahalanobis distance matrix between treated and control groups.\"\"\"\n",
    "    distances = {}\n",
    "    for i, t in treated.iterrows():\n",
    "        for j, c in control.iterrows():\n",
    "            dist = mahalanobis(t[['urgency_baseline', 'urgency_t', 'frequency_baseline', 'frequency_t', 'pain_baseline', 'pain_t']], \n",
    "                               c[['urgency_baseline', 'urgency_t', 'frequency_baseline', 'frequency_t', 'pain_baseline', 'pain_t']], \n",
    "                               cov_inv)\n",
    "            distances[(i, j)] = dist\n",
    "    return distances\n",
    "\n",
    "# Compute distance matrix\n",
    "distance_matrix = compute_distance_matrix(treated, control)\n",
    "\n",
    "# Step 3: Optimal Matching via Integer Programming\n",
    "prob = LpProblem(\"Balanced_Matching\", LpMinimize)\n",
    "\n",
    "# Define decision variables\n",
    "x = {pair: LpVariable(f\"x_{pair[0]}_{pair[1]}\", cat='Binary') for pair in distance_matrix.keys()}\n",
    "\n",
    "# Objective function: Minimize total distance\n",
    "prob += lpSum(distance_matrix[pair] * x[pair] for pair in distance_matrix.keys())\n",
    "\n",
    "# Constraints: Each treated patient is matched to one control\n",
    "for i in range(len(treated)):\n",
    "    prob += lpSum(x[(i, j)] for j in range(len(control)) if (i, j) in x) == 1\n",
    "\n",
    "# Each control patient is matched at most once\n",
    "for j in range(len(control)):\n",
    "    prob += lpSum(x[(i, j)] for i in range(len(treated)) if (i, j) in x) <= 1\n",
    "\n",
    "# Step 4: Balancing Covariates\n",
    "# Enforce balance constraints on binary variables (age, gender)\n",
    "for attr in ['age', 'gender']:\n",
    "    treated_sum = lpSum(treated.loc[i, attr] * x[(i, j)] for i, j in x.keys())\n",
    "    control_sum = lpSum(control.loc[j, attr] * x[(i, j)] for i, j in x.keys())\n",
    "    prob += treated_sum == control_sum\n",
    "\n",
    "# Step 5: Ensuring Stability and Sensitivity Analysis\n",
    "# Solve the optimization problem\n",
    "prob.solve()\n",
    "\n",
    "# Extract matched pairs\n",
    "matches = [(i, j) for (i, j) in x.keys() if x[(i, j)].value() == 1]\n",
    "print(\"Matched Pairs:\", matches)\n"
   ]
  },
  {
   "cell_type": "code",
   "execution_count": null,
   "metadata": {},
   "outputs": [],
   "source": []
  },
  {
   "cell_type": "code",
   "execution_count": null,
   "id": "e6af717e-284c-4b3f-a21c-21e35579cfd4",
   "metadata": {},
   "outputs": [],
   "source": []
  }
 ],
 "metadata": {
  "kernelspec": {
   "display_name": "myproject_kernel",
   "language": "python",
   "name": "myproject_kernel"
  },
  "language_info": {
   "codemirror_mode": {
    "name": "ipython",
    "version": 3
   },
   "file_extension": ".py",
   "mimetype": "text/x-python",
   "name": "python",
   "nbconvert_exporter": "python",
   "pygments_lexer": "ipython3",
   "version": "3.12.0"
  }
 },
 "nbformat": 4,
 "nbformat_minor": 5
}
